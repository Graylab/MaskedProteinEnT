{
 "cells": [
  {
   "cell_type": "raw",
   "metadata": {},
   "source": [
    "!git clone https://github.com/Graylab/MaskedProteinEnT.git\n",
    "!pip install torch==1.9.1+cu111 torchvision==0.10.1+cu111 torchaudio==0.9.1 -f https://download.pytorch.org/whl/torch_stable.html\n",
    "!pip install -r requirements_torch191.txt"
   ]
  },
  {
   "cell_type": "code",
   "execution_count": 2,
   "metadata": {},
   "outputs": [],
   "source": [
    "import os\n",
    "import shutil\n",
    "\n",
    "# For downloads\n",
    "import requests\n",
    "from concurrent.futures import ThreadPoolExecutor"
   ]
  },
  {
   "cell_type": "code",
   "execution_count": 3,
   "metadata": {},
   "outputs": [
    {
     "name": "stdout",
     "output_type": "stream",
     "text": [
      "Downloaded training_datasets/ids_train_casp12nr50_nr70Ig_nr40Others.fasta\n",
      "Downloaded training_datasets/ppi_trainset_5032_noabag_aug2022.h5\n",
      "Downloaded training_datasets/AbSCSAbDAb_trainnr90_bkandcbcoords_aug2022.h5\n"
     ]
    }
   ],
   "source": [
    "# Create the directory if it doesn't exist\n",
    "os.makedirs('training_datasets', exist_ok=True)\n",
    "\n",
    "# List of file URLs\n",
    "urls = [\n",
    "    'https://zenodo.org/records/13831403/files/ids_train_casp12nr50_nr70Ig_nr40Others.fasta',\n",
    "    'https://zenodo.org/records/13831403/files/sidechainnet_casp12_50.pkl',\n",
    "    'https://zenodo.org/records/13831403/files/AbSCSAbDAb_trainnr90_bkandcbcoords_aug2022.h5',\n",
    "    'https://zenodo.org/records/13831403/files/ppi_trainset_5032_noabag_aug2022.h5',\n",
    "    'https://zenodo.org/records/13831403/files/train_af_paired_nr70.h5'\n",
    "]\n",
    "\n",
    "def download_file(url):\n",
    "    # Checks if the HTTP request was successful\n",
    "    local_filename = os.path.join('training_datasets', os.path.basename(url))\n",
    "    # Skip file if it exists already\n",
    "    if os.path.exists(local_filename):\n",
    "        print(f'Skipping download: {local_filename} already exists.')\n",
    "        return\n",
    "    # Stream download to handle large files\n",
    "    with requests.get(url, stream=True) as r:\n",
    "        r.raise_for_status()\n",
    "        # Opens a file in binary write mode\n",
    "        with open(local_filename, 'wb') as f:\n",
    "            # write in 8 kb chunks\n",
    "            for chunk in r.iter_content(chunk_size=8192):\n",
    "                f.write(chunk)\n",
    "    print(f'Downloaded {local_filename}')\n",
    "\n",
    "# Use ThreadPoolExecutor to download files concurrently\n",
    "with ThreadPoolExecutor(max_workers=5) as executor:\n",
    "    executor.map(download_file, urls)\n"
   ]
  },
  {
   "cell_type": "code",
   "execution_count": null,
   "metadata": {},
   "outputs": [],
   "source": [
    "! mkdir -p training_datasets\n",
    "\n",
    "! wget -P training_datasets https://zenodo.org/records/13831403/files/ids_train_casp12nr50_nr70Ig_nr40Others.fasta\n",
    "\n",
    "! wget -P training_datasets https://zenodo.org/records/13831403/files/sidechainnet_casp12_50.pkl\n",
    "\n",
    "! wget -P training_datasets https://zenodo.org/records/13831403/files/AbSCSAbDAb_trainnr90_bkandcbcoords_aug2022.h5\n",
    "! wget -P training_datasets https://zenodo.org/records/13831403/files/ppi_trainset_5032_noabag_aug2022.h5\n",
    "! wget -P training_datasets https://zenodo.org/records/13831403/files/train_af_paired_nr70.h5"
   ]
  },
  {
   "cell_type": "code",
   "execution_count": 2,
   "metadata": {},
   "outputs": [],
   "source": [
    "### COPY SIDECHAINNET TO LOCAL TEMPORARY DIRECTORY\n",
    "\n",
    "sidechainnet = './training_datasets/sidechainnet_casp12_50.pkl'\n",
    "sidechainnet_temp = '/tmp/sidechainnet_casp12_50.pkl'\n",
    "\n",
    "if not os.path.exists(sidechainnet_temp):\n",
    "    shutil.copy(sidechainnet, sidechainnet_temp)"
   ]
  },
  {
   "cell_type": "code",
   "execution_count": 4,
   "metadata": {},
   "outputs": [],
   "source": [
    "### MODEL AND TRAINING PARAMETERS\n",
    "LAYERS=4\n",
    "HEADS=8\n",
    "DIM=256\n",
    "OLD=0\n",
    "BS=1\n",
    "SS=50 # protein model was trained on 90ss\n",
    "save_every=5\n",
    "gmodel='egnn-trans-ma'\n",
    "atom_types='backbone_and_cb'\n",
    "NN=48\n",
    "\n",
    "### Training seed and output directory\n",
    "SEED=1\n",
    "MODELS_DIR=f'models_out_dir_seed_{SEED}'\n",
    "EPOCHS=10\n",
    "\n",
    "### WANDB ENTITY\n",
    "WANDB_ENTITY=\"fadh-johns-hopkins-university\"\n"
   ]
  },
  {
   "cell_type": "code",
   "execution_count": 5,
   "metadata": {},
   "outputs": [],
   "source": [
    "gd2_dataset_ids = os.path.join(os.getcwd(), 'training_datasets', 'ids_train_casp12nr50_nr70Ig_nr40Others.fasta')"
   ]
  },
  {
   "cell_type": "code",
   "execution_count": null,
   "metadata": {},
   "outputs": [],
   "source": [
    "### Get SLURM variables and list of gpus\n",
    "\n",
    "slurm_ntasks = int(os.getenv('SLURM_NTASKS', 1))  # Default to 1 if not set\n",
    "slurm_job_num_nodes = int(os.getenv('SLURM_JOB_NUM_NODES', 1))  # Default to 1 if not set\n",
    "\n",
    "# Calculate n_procs\n",
    "n_procs = slurm_ntasks // slurm_job_num_nodes\n",
    "\n",
    "# Default value for num_gpus\n",
    "num_gpus = 0\n",
    "\n",
    "slurm_step_gpus = os.getenv('SLURM_STEP_GPUS')\n",
    "gpus_list = slurm_step_gpus.split(',')\n",
    "num_gpus = len(gpus_list)\n",
    "\n",
    "print(f\"n_proces = {n_procs}\")\n",
    "print(f\"num_gpus = {num_gpus}\")"
   ]
  },
  {
   "cell_type": "code",
   "execution_count": null,
   "metadata": {},
   "outputs": [],
   "source": [
    "# Run training using shell execution in Jupyter\n",
    "# !python3 ./MaskedProteinEnT/train_masked_model.py \\ ### Uncomment when final\n",
    "!python3 ./train_masked_model.py \\\n",
    "  --save_every {save_every} --lr 0.00001 --batch_size {BS} \\\n",
    "  --heads {HEADS} --model_dim {DIM} --epochs {EPOCHS} --dropout 0.2 \\\n",
    "  --masking_rate_max 0.25 --topk_metrics 1 --layers {LAYERS} \\\n",
    "  --num_gpus {num_gpus} --crop_sequences \\\n",
    "  --scn_sequence_similarity {SS} --protein_gmodel {gmodel} \\\n",
    "  --lr_patience 350 --lr_cooldown 20 --max_ag_neighbors {NN} \\\n",
    "  --atom_types {atom_types} \\\n",
    "  --file_with_selected_scn_ids_for_training {gd2_dataset_ids} \\\n",
    "  --lightning_save_last_model --use_scn --num_procs {n_procs} \\\n",
    "  --output_dir {MODELS_DIR} --seed {SEED} --wandb_entity {WANDB_ENTITY}\n"
   ]
  }
 ],
 "metadata": {
  "kernelspec": {
   "display_name": "Python 3",
   "language": "python",
   "name": "python3"
  },
  "language_info": {
   "codemirror_mode": {
    "name": "ipython",
    "version": 3
   },
   "file_extension": ".py",
   "mimetype": "text/x-python",
   "name": "python",
   "nbconvert_exporter": "python",
   "pygments_lexer": "ipython3",
   "version": "3.8.3"
  }
 },
 "nbformat": 4,
 "nbformat_minor": 2
}
