{
 "cells": [
  {
   "cell_type": "raw",
   "metadata": {},
   "source": [
    "!git clone https://github.com/Graylab/MaskedProteinEnT.git\n",
    "!pip install torch==1.9.1+cu111 torchvision==0.10.1+cu111 torchaudio==0.9.1 -f https://download.pytorch.org/whl/torch_stable.html\n",
    "!pip install -r requirements_torch191.txt"
   ]
  },
  {
   "cell_type": "raw",
   "metadata": {
    "vscode": {
     "languageId": "raw"
    }
   },
   "source": [
    "import os\n",
    "import shutil"
   ]
  },
  {
   "cell_type": "code",
   "execution_count": null,
   "metadata": {
    "vscode": {
     "languageId": "plaintext"
    }
   },
   "outputs": [],
   "source": [
    "mkdir -p training_datasets\n",
    "\n",
    "wget -P training_datasets https://zenodo.org/records/13831403/files/ids_train_casp12nr50_nr70Ig_nr40Others.fasta\n",
    "\n",
    "wget -P training_datasets https://zenodo.org/records/13831403/files/sidechainnet_casp12_50.pkl\n",
    "\n",
    "wget -P training_datasets https://zenodo.org/records/13831403/files/AbSCSAbDAb_trainnr90_bkandcbcoords_aug2022.h5\n",
    "wget -P training_datasets https://zenodo.org/records/13831403/files/ppi_trainset_5032_noabag_aug2022.h5\n",
    "wget -P training_datasets https://zenodo.org/records/13831403/files/train_af_paired_nr70.h5\n",
    "\n",
    "# Is this the test set?\n",
    "wget -P training_datasets https://zenodo.org/records/13831403/files/testset_rabd-dms-vhh_backboneandcb_oct2022.h5"
   ]
  },
  {
   "cell_type": "code",
   "execution_count": null,
   "metadata": {
    "vscode": {
     "languageId": "plaintext"
    }
   },
   "outputs": [],
   "source": [
    "### COPY SIDECHAINNET TO LOCAL TEMPORARY DIRECTORY\n",
    "\n",
    "sidechainnet = './training_datasets/sidechainnet_casp12_50.pkl'\n",
    "sidechainnet_temp = '/tmp/sidechainnet_casp12_50.pkl'\n",
    "\n",
    "if not os.path.exists(sidechainnet_temp):\n",
    "    shutil.copy(sidechainnet, sidechainnet_temp)"
   ]
  },
  {
   "cell_type": "code",
   "execution_count": null,
   "metadata": {
    "vscode": {
     "languageId": "plaintext"
    }
   },
   "outputs": [],
   "source": [
    "### MODEL AND TRAINING PARAMETERS\n",
    "LAYERS=4\n",
    "HEADS=8\n",
    "DIM=256\n",
    "OLD=0\n",
    "BS=1\n",
    "SS=50 # protein model was trained on 90ss\n",
    "save_every=5\n",
    "gmodel=egnn-trans-ma\n",
    "atom_types=backbone_and_cb\n",
    "NN=48\n",
    "\n",
    "### Training seed and output directory\n",
    "SEED=1\n",
    "MODELS_DIR=models_out_dir_seed_$SEED\n",
    "EPOCHS=10\n",
    "\n",
    "### WANDB ENTITY\n",
    "WANDB_ENTITY=\"fadh-johns-hopkins-university\"\n"
   ]
  },
  {
   "cell_type": "code",
   "execution_count": null,
   "metadata": {
    "vscode": {
     "languageId": "plaintext"
    }
   },
   "outputs": [],
   "source": [
    "gd2_dataset_ids = os.path.join(os.getcwd(), 'training_datasets', 'ids_train_casp12nr50_nr70Ig_nr40Others.fasta')"
   ]
  },
  {
   "cell_type": "code",
   "execution_count": null,
   "metadata": {
    "vscode": {
     "languageId": "plaintext"
    }
   },
   "outputs": [],
   "source": [
    "### Get SLURM variables and list of gpus\n",
    "\n",
    "slurm_ntasks = int(os.getenv('SLURM_NTASKS', 1))  # Default to 1 if not set\n",
    "slurm_job_num_nodes = int(os.getenv('SLURM_JOB_NUM_NODES', 1))  # Default to 1 if not set\n",
    "\n",
    "# Calculate n_procs\n",
    "n_procs = slurm_ntasks // slurm_job_num_nodes\n",
    "\n",
    "# Default value for num_gpus\n",
    "num_gpus = 0\n",
    "\n",
    "slurm_step_gpus = os.getenv('SLURM_STEP_GPUS')\n",
    "gpus_list = slurm_step_gpus.split(',')\n",
    "num_gpus = len(gpus_list)\n"
   ]
  },
  {
   "cell_type": "code",
   "execution_count": null,
   "metadata": {
    "vscode": {
     "languageId": "plaintext"
    }
   },
   "outputs": [],
   "source": [
    "# Run training using shell execution in Jupyter\n",
    "!python3 ./MaskedProteinEnT/train_masked_model.py \\\n",
    "  --save_every {save_every} --lr 0.00001 --batch_size {BS} \\\n",
    "  --heads {HEADS} --model_dim {DIM} --epochs {EPOCHS} --dropout 0.2 \\\n",
    "  --masking_rate_max 0.25 --topk_metrics 1 --layers {LAYERS} \\\n",
    "  --num_gpus {num_gpus} --crop_sequences \\\n",
    "  --scn_sequence_similarity {SS} --protein_gmodel {gmodel} \\\n",
    "  --lr_patience 350 --lr_cooldown 20 --max_ag_neighbors {NN} \\\n",
    "  --atom_types {atom_types} \\\n",
    "  --file_with_selected_scn_ids_for_training {gd2_dataset_ids} \\\n",
    "  --lightning_save_last_model --use_scn --num_procs {n_procs} \\\n",
    "  --output_dir {MODELS_DIR} --seed {SEED} --wandb_entity {WANDB_ENTITY}\n"
   ]
  }
 ],
 "metadata": {
  "language_info": {
   "name": "python"
  }
 },
 "nbformat": 4,
 "nbformat_minor": 2
}
