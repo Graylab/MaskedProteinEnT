{
 "cells": [
  {
   "cell_type": "markdown",
   "metadata": {},
   "source": [
    "!git clone https://github.com/Graylab/MaskedProteinEnT.git\n",
    "!pip install torch==1.9.1+cu111 torchvision==0.10.1+cu111 torchaudio==0.9.1 -f https://download.pytorch.org/whl/torch_stable.html\n",
    "!pip install -r requirements_torch191.txt"
   ]
  },
  {
   "cell_type": "code",
   "execution_count": null,
   "metadata": {
    "vscode": {
     "languageId": "plaintext"
    }
   },
   "outputs": [],
   "source": [
    "mkdir -p training_datasets\n",
    "\n",
    "wget -P training_datasets https://zenodo.org/records/13831403/files/ids_train_casp12nr50_nr70Ig_nr40Others.fasta\n",
    "\n",
    "wget -P training_datasets https://zenodo.org/records/13831403/files/sidechainnet_casp12_50.pkl\n",
    "\n",
    "wget -P training_datasets https://zenodo.org/records/13831403/files/AbSCSAbDAb_trainnr90_bkandcbcoords_aug2022.h5\n",
    "wget -P training_datasets https://zenodo.org/records/13831403/files/ppi_trainset_5032_noabag_aug2022.h5\n",
    "wget -P training_datasets https://zenodo.org/records/13831403/files/train_af_paired_nr70.h5\n",
    "\n",
    "# Is this the test set?\n",
    "wget -P training_datasets https://zenodo.org/records/13831403/files/testset_rabd-dms-vhh_backboneandcb_oct2022.h5"
   ]
  },
  {
   "cell_type": "code",
   "execution_count": null,
   "metadata": {
    "vscode": {
     "languageId": "plaintext"
    }
   },
   "outputs": [],
   "source": [
    "### MODEL AND TRAINING PARAMETERS\n",
    "LAYERS=4\n",
    "HEADS=8\n",
    "DIM=256\n",
    "OLD=0\n",
    "BS=1\n",
    "SS=50 # protein model was trained on 90ss\n",
    "save_every=5\n",
    "gmodel=egnn-trans-ma\n",
    "atom_types=backbone_and_cb\n",
    "NN=48\n",
    "\n",
    "### Training seed and output directory\n",
    "SEED=1\n",
    "MODELS_DIR=models_out_dir_seed_$SEED\n",
    "EPOCHS=10\n",
    "\n",
    "### WANDB ENTITY\n",
    "WANDB_ENTITY=\"fadh-johns-hopkins-university\"\n"
   ]
  }
 ],
 "metadata": {
  "language_info": {
   "name": "python"
  }
 },
 "nbformat": 4,
 "nbformat_minor": 2
}
